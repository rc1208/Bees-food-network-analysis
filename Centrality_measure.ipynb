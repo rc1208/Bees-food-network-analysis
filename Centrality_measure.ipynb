{
 "cells": [
  {
   "cell_type": "code",
   "execution_count": 1,
   "metadata": {},
   "outputs": [
    {
     "data": {
      "text/plain": [
       "'2.2'"
      ]
     },
     "execution_count": 1,
     "metadata": {},
     "output_type": "execute_result"
    }
   ],
   "source": [
    "import pandas as pd\n",
    "import numpy as np\n",
    "import networkx as nx\n",
    "import sys\n",
    "import matplotlib.pyplot as plt\n",
    "import random\n",
    "import time\n",
    "#from nxsim import BaseNetworkAgent\n",
    "from datetime import datetime\n",
    "import collections\n",
    "from collections import defaultdict\n",
    "import copy\n",
    "import math\n",
    "nx.__version__"
   ]
  },
  {
   "cell_type": "code",
   "execution_count": 2,
   "metadata": {
    "collapsed": true
   },
   "outputs": [],
   "source": [
    "read_data = pd.read_csv(\"pnas.1713568115.sd01.txt\") #read the data file, no cleaning required\n",
    "read_data = read_data[read_data['trial'] == 1]  #take the data for the 1st trial only\n",
    "data = read_data\n",
    "data['time'] = data['end'] - data['begin']#store the diff btw begin and end to get total time for each trans. in ms\n",
    "data['time'] = data['time']/1000.0 #change 'ms' to 's'\n",
    "data['begin'] = data['begin']/1000.0 #change 'ms' to 's'\n",
    "data['day'] = data['begin'].map(lambda x: int(datetime.utcfromtimestamp(x).strftime('%d')))\n",
    "data['UTC'] = data['begin'].map(lambda x: datetime.utcfromtimestamp(x).strftime('%Y-%m-%d %H:%M:%S'))\n",
    "data['hours'] = data['begin'].map(lambda x: int(datetime.utcfromtimestamp(x).strftime('%H')))\n",
    "data = data.sort_values('begin')\n",
    "data_day_4 = data[data['day'] == 4]"
   ]
  },
  {
   "cell_type": "code",
   "execution_count": 14,
   "metadata": {
    "collapsed": true
   },
   "outputs": [],
   "source": [
    "import copy\n",
    "def make_graph(data): #make a graph out of the dataframe structure\n",
    "    G = nx.DiGraph() #initialize the graph\n",
    "    for index, row in data.iterrows():\n",
    "        #print(row[1],row[2])\n",
    "        G.add_edge(row[1],row[2]) #add node1,node2,weight list iteratively to the graph\n",
    "    \n",
    "    return G"
   ]
  },
  {
   "cell_type": "code",
   "execution_count": 6,
   "metadata": {},
   "outputs": [],
   "source": [
    "G = make_graph(data_day_4)"
   ]
  },
  {
   "cell_type": "code",
   "execution_count": 7,
   "metadata": {
    "collapsed": true
   },
   "outputs": [],
   "source": [
    "deg_centrality = nx.degree_centrality(G)"
   ]
  },
  {
   "cell_type": "code",
   "execution_count": 8,
   "metadata": {
    "collapsed": true
   },
   "outputs": [],
   "source": [
    "bet_cen = nx.betweenness_centrality(G)"
   ]
  },
  {
   "cell_type": "code",
   "execution_count": 15,
   "metadata": {
    "collapsed": true
   },
   "outputs": [],
   "source": [
    "G2 = make_graph(data_day_4)\n",
    "out_deg_cent = nx.out_degree_centrality(G2)"
   ]
  },
  {
   "cell_type": "code",
   "execution_count": 10,
   "metadata": {},
   "outputs": [],
   "source": [
    "sorted_degree_cent= sorted(deg_centrality.items(), key=lambda kv: kv[1], reverse=True)"
   ]
  },
  {
   "cell_type": "code",
   "execution_count": 12,
   "metadata": {},
   "outputs": [],
   "source": [
    "sorted_btw_cent= sorted(bet_cen.items(), key=lambda kv: kv[1], reverse=True)"
   ]
  },
  {
   "cell_type": "code",
   "execution_count": 16,
   "metadata": {},
   "outputs": [],
   "source": [
    "sorted_out_deg= sorted(out_deg_cent.items(), key=lambda kv: kv[1], reverse=True)"
   ]
  }
 ],
 "metadata": {
  "kernelspec": {
   "display_name": "Python 3",
   "language": "python",
   "name": "python3"
  },
  "language_info": {
   "codemirror_mode": {
    "name": "ipython",
    "version": 3
   },
   "file_extension": ".py",
   "mimetype": "text/x-python",
   "name": "python",
   "nbconvert_exporter": "python",
   "pygments_lexer": "ipython3",
   "version": "3.6.1"
  }
 },
 "nbformat": 4,
 "nbformat_minor": 2
}
