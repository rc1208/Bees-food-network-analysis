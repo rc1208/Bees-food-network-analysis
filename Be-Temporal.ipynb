{
 "cells": [
  {
   "cell_type": "code",
   "execution_count": 1,
   "metadata": {},
   "outputs": [
    {
     "data": {
      "text/plain": [
       "'2.2'"
      ]
     },
     "execution_count": 1,
     "metadata": {},
     "output_type": "execute_result"
    }
   ],
   "source": [
    "import pandas as pd\n",
    "import numpy as np\n",
    "import networkx as nx\n",
    "import sys\n",
    "import matplotlib.pyplot as plt\n",
    "import random\n",
    "import time\n",
    "from nxsim import BaseNetworkAgent\n",
    "nx.__version__"
   ]
  },
  {
   "cell_type": "code",
   "execution_count": null,
   "metadata": {},
   "outputs": [],
   "source": [
    "read_data = pd.read_csv(\"pnas.1713568115.sd01.txt\") #read the data file, no cleaning required\n",
    "read_data = read_data[read_data['trial'] == 1]  #take the data for the 1st trial only\n",
    "data = read_data\n",
    "data.head(10)\n",
    "#print(len(data))\n",
    "#type(data)\n",
    "\n",
    "data['time'] = data['end'] - data['begin']#store the diff btw begin and end to get total time for each trans. in ms\n",
    "data['time'] = data['time']/1000.0 #change 'ms' to 's'\n",
    "data['time'] = data['time'].map(lambda x: [x]) #convert the time attr to list as as there are multiple iteractions between two bees"
   ]
  }
 ],
 "metadata": {
  "kernelspec": {
   "display_name": "Python 3",
   "language": "python",
   "name": "python3"
  },
  "language_info": {
   "codemirror_mode": {
    "name": "ipython",
    "version": 3
   },
   "file_extension": ".py",
   "mimetype": "text/x-python",
   "name": "python",
   "nbconvert_exporter": "python",
   "pygments_lexer": "ipython3",
   "version": "3.6.5"
  }
 },
 "nbformat": 4,
 "nbformat_minor": 2
}
